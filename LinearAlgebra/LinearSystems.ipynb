{
 "cells": [
  {
   "cell_type": "markdown",
   "metadata": {},
   "source": [
    "# Linear System"
   ]
  },
  {
   "cell_type": "markdown",
   "metadata": {},
   "source": [
    "## Given function\n",
    "\n",
    "\\begin{align}\n",
    "& & 3x_{3} & = 9 \\\\\n",
    "x_{1} & + 5x_{2} & - 2x_{3} & = 2 \\\\\n",
    "\\frac{1}{3}x_{1} & + 2x_{2} &  & = 3 \\\\\n",
    "\\end{align}\n",
    "\n",
    "If writen as \n",
    "\n",
    "\\begin{align}\n",
    "A \\dot X = b\n",
    "\\end{align}\n",
    "\n",
    "where $X = [x_{1}, x_{2}, x_{3},]$"
   ]
  },
  {
   "cell_type": "code",
   "execution_count": 28,
   "metadata": {},
   "outputs": [],
   "source": [
    "A = [[0, 1, 1/3], [0, 5, 2], [3, -2, 0]]"
   ]
  },
  {
   "cell_type": "code",
   "execution_count": 29,
   "metadata": {},
   "outputs": [],
   "source": [
    "b = [9, 2, 3]"
   ]
  },
  {
   "cell_type": "code",
   "execution_count": 30,
   "metadata": {},
   "outputs": [
    {
     "name": "stdout",
     "output_type": "stream",
     "text": [
      "[[0, 1, 0.3333333333333333], [0, 5, 2], [3, -2, 0]]\n"
     ]
    }
   ],
   "source": [
    "print(A)"
   ]
  },
  {
   "cell_type": "code",
   "execution_count": 31,
   "metadata": {},
   "outputs": [
    {
     "name": "stdout",
     "output_type": "stream",
     "text": [
      "[9, 2, 3]\n"
     ]
    }
   ],
   "source": [
    "print(b)"
   ]
  },
  {
   "cell_type": "markdown",
   "metadata": {},
   "source": [
    "Note that $A$ and $b$ are lists, we need to use numpy arrays"
   ]
  },
  {
   "cell_type": "code",
   "execution_count": 32,
   "metadata": {},
   "outputs": [],
   "source": [
    "import numpy\n",
    "A = numpy.array(A)\n",
    "b = numpy.array(b)\n",
    "X = numpy.linalg.solve(A, b)"
   ]
  },
  {
   "cell_type": "code",
   "execution_count": 33,
   "metadata": {},
   "outputs": [
    {
     "name": "stdout",
     "output_type": "stream",
     "text": [
      "[  35.66666667   52.         -129.        ]\n"
     ]
    }
   ],
   "source": [
    "print(X)"
   ]
  },
  {
   "cell_type": "markdown",
   "metadata": {},
   "source": [
    "## confirm the result"
   ]
  },
  {
   "cell_type": "code",
   "execution_count": 34,
   "metadata": {},
   "outputs": [
    {
     "name": "stdout",
     "output_type": "stream",
     "text": [
      "[[  35.66666667]\n",
      " [  52.        ]\n",
      " [-129.        ]]\n",
      "[[9.]\n",
      " [2.]\n",
      " [3.]]\n"
     ]
    }
   ],
   "source": [
    "XX = X.reshape((3,1))\n",
    "print(XX)\n",
    "B = numpy.matmul(A, XX)\n",
    "print(B)"
   ]
  },
  {
   "cell_type": "markdown",
   "metadata": {},
   "source": [
    "## use tensorflow\n",
    "\n",
    "starting from $X=[0,0,0]$, and approach $b$ gradually"
   ]
  },
  {
   "cell_type": "code",
   "execution_count": 67,
   "metadata": {},
   "outputs": [
    {
     "name": "stdout",
     "output_type": "stream",
     "text": [
      "(3, 3) (3, 1) (3, 1)\n",
      "(3, 1)\n",
      "[[  35.65312 ]\n",
      " [  51.979683]\n",
      " [-128.94888 ]] <class 'numpy.ndarray'>\n",
      "[[8.9967219 ]\n",
      " [2.0006485 ]\n",
      " [2.99998856]]\n"
     ]
    }
   ],
   "source": [
    "import tensorflow as tf\n",
    "tensorA = tf.constant([[0., 1., 1/3], [0., 5., 2.], [3., -2., 0.]])\n",
    "tensorb = tf.constant([[9.], [2.], [3.]])\n",
    "tensorX = tf.Variable(tf.zeros([3, 1]))\n",
    "print(tensorA.shape, tensorX.shape, tensorb.shape)\n",
    "tensorbb = tf.tensordot(tensorA, tensorX, 1)\n",
    "print(tensorbb.shape)\n",
    "tensord = tf.square(tensorb - tensorbb)\n",
    "train_step = tf.train.GradientDescentOptimizer(0.02).minimize(tensord)\n",
    "init = tf.global_variables_initializer()\n",
    "sess = tf.Session();\n",
    "sess.run(init)\n",
    "for i in range(100000):\n",
    "  sess.run(train_step)\n",
    "XX = sess.run(tensorX)\n",
    "print(XX, type(XX))\n",
    "B = numpy.matmul(A, XX)\n",
    "print(B)"
   ]
  },
  {
   "cell_type": "markdown",
   "metadata": {},
   "source": [
    "## Given\n",
    "\n",
    "\\begin{align}\n",
    "x_{1} & + 5x_{2} & = 2 \\\\\n",
    "2x_{1} & + 9x_{2} & = 4 \\\\\n",
    "\\end{align}"
   ]
  },
  {
   "cell_type": "code",
   "execution_count": 73,
   "metadata": {},
   "outputs": [
    {
     "name": "stdout",
     "output_type": "stream",
     "text": [
      "[2. 0.]\n"
     ]
    }
   ],
   "source": [
    "P = numpy.array([[1,5], [2,9]])\n",
    "q = numpy.array([2, 4])\n",
    "Z = numpy.linalg.solve(P, q)\n",
    "print(Z)"
   ]
  },
  {
   "cell_type": "markdown",
   "metadata": {},
   "source": [
    "## change 9 to 10 and re-run\n",
    "\n",
    "see that there is no solution"
   ]
  },
  {
   "cell_type": "markdown",
   "metadata": {},
   "source": [
    "## Note\n",
    "Gauss-Jordan elimination"
   ]
  },
  {
   "cell_type": "code",
   "execution_count": null,
   "metadata": {},
   "outputs": [],
   "source": []
  }
 ],
 "metadata": {
  "kernelspec": {
   "display_name": "Python 3",
   "language": "python",
   "name": "python3"
  },
  "language_info": {
   "codemirror_mode": {
    "name": "ipython",
    "version": 3
   },
   "file_extension": ".py",
   "mimetype": "text/x-python",
   "name": "python",
   "nbconvert_exporter": "python",
   "pygments_lexer": "ipython3",
   "version": "3.6.7"
  }
 },
 "nbformat": 4,
 "nbformat_minor": 4
}
